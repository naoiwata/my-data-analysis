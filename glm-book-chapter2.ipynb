{
 "cells": [
  {
   "cell_type": "markdown",
   "metadata": {},
   "source": [
    "# 2 probability distribution and maximum likelihood estimation of statistical model"
   ]
  },
  {
   "cell_type": "code",
   "execution_count": 2,
   "metadata": {},
   "outputs": [],
   "source": [
    "load(\"data/glm-book/data.RData\")"
   ]
  },
  {
   "cell_type": "code",
   "execution_count": 3,
   "metadata": {},
   "outputs": [
    {
     "data": {
      "text/html": [
       "<ol class=list-inline>\n",
       "\t<li>2</li>\n",
       "\t<li>2</li>\n",
       "\t<li>4</li>\n",
       "\t<li>6</li>\n",
       "\t<li>4</li>\n",
       "\t<li>5</li>\n",
       "\t<li>2</li>\n",
       "\t<li>3</li>\n",
       "\t<li>1</li>\n",
       "\t<li>2</li>\n",
       "\t<li>0</li>\n",
       "\t<li>4</li>\n",
       "\t<li>3</li>\n",
       "\t<li>3</li>\n",
       "\t<li>3</li>\n",
       "\t<li>3</li>\n",
       "\t<li>4</li>\n",
       "\t<li>2</li>\n",
       "\t<li>7</li>\n",
       "\t<li>2</li>\n",
       "\t<li>4</li>\n",
       "\t<li>3</li>\n",
       "\t<li>3</li>\n",
       "\t<li>3</li>\n",
       "\t<li>4</li>\n",
       "\t<li>3</li>\n",
       "\t<li>7</li>\n",
       "\t<li>5</li>\n",
       "\t<li>3</li>\n",
       "\t<li>1</li>\n",
       "\t<li>7</li>\n",
       "\t<li>6</li>\n",
       "\t<li>4</li>\n",
       "\t<li>6</li>\n",
       "\t<li>5</li>\n",
       "\t<li>2</li>\n",
       "\t<li>4</li>\n",
       "\t<li>7</li>\n",
       "\t<li>2</li>\n",
       "\t<li>2</li>\n",
       "\t<li>6</li>\n",
       "\t<li>2</li>\n",
       "\t<li>4</li>\n",
       "\t<li>5</li>\n",
       "\t<li>4</li>\n",
       "\t<li>5</li>\n",
       "\t<li>1</li>\n",
       "\t<li>3</li>\n",
       "\t<li>2</li>\n",
       "\t<li>3</li>\n",
       "</ol>\n"
      ],
      "text/latex": [
       "\\begin{enumerate*}\n",
       "\\item 2\n",
       "\\item 2\n",
       "\\item 4\n",
       "\\item 6\n",
       "\\item 4\n",
       "\\item 5\n",
       "\\item 2\n",
       "\\item 3\n",
       "\\item 1\n",
       "\\item 2\n",
       "\\item 0\n",
       "\\item 4\n",
       "\\item 3\n",
       "\\item 3\n",
       "\\item 3\n",
       "\\item 3\n",
       "\\item 4\n",
       "\\item 2\n",
       "\\item 7\n",
       "\\item 2\n",
       "\\item 4\n",
       "\\item 3\n",
       "\\item 3\n",
       "\\item 3\n",
       "\\item 4\n",
       "\\item 3\n",
       "\\item 7\n",
       "\\item 5\n",
       "\\item 3\n",
       "\\item 1\n",
       "\\item 7\n",
       "\\item 6\n",
       "\\item 4\n",
       "\\item 6\n",
       "\\item 5\n",
       "\\item 2\n",
       "\\item 4\n",
       "\\item 7\n",
       "\\item 2\n",
       "\\item 2\n",
       "\\item 6\n",
       "\\item 2\n",
       "\\item 4\n",
       "\\item 5\n",
       "\\item 4\n",
       "\\item 5\n",
       "\\item 1\n",
       "\\item 3\n",
       "\\item 2\n",
       "\\item 3\n",
       "\\end{enumerate*}\n"
      ],
      "text/markdown": [
       "1. 2\n",
       "2. 2\n",
       "3. 4\n",
       "4. 6\n",
       "5. 4\n",
       "6. 5\n",
       "7. 2\n",
       "8. 3\n",
       "9. 1\n",
       "10. 2\n",
       "11. 0\n",
       "12. 4\n",
       "13. 3\n",
       "14. 3\n",
       "15. 3\n",
       "16. 3\n",
       "17. 4\n",
       "18. 2\n",
       "19. 7\n",
       "20. 2\n",
       "21. 4\n",
       "22. 3\n",
       "23. 3\n",
       "24. 3\n",
       "25. 4\n",
       "26. 3\n",
       "27. 7\n",
       "28. 5\n",
       "29. 3\n",
       "30. 1\n",
       "31. 7\n",
       "32. 6\n",
       "33. 4\n",
       "34. 6\n",
       "35. 5\n",
       "36. 2\n",
       "37. 4\n",
       "38. 7\n",
       "39. 2\n",
       "40. 2\n",
       "41. 6\n",
       "42. 2\n",
       "43. 4\n",
       "44. 5\n",
       "45. 4\n",
       "46. 5\n",
       "47. 1\n",
       "48. 3\n",
       "49. 2\n",
       "50. 3\n",
       "\n",
       "\n"
      ],
      "text/plain": [
       " [1] 2 2 4 6 4 5 2 3 1 2 0 4 3 3 3 3 4 2 7 2 4 3 3 3 4 3 7 5 3 1 7 6 4 6 5 2 4 7\n",
       "[39] 2 2 6 2 4 5 4 5 1 3 2 3"
      ]
     },
     "metadata": {},
     "output_type": "display_data"
    }
   ],
   "source": [
    "data"
   ]
  },
  {
   "cell_type": "code",
   "execution_count": 4,
   "metadata": {},
   "outputs": [
    {
     "data": {
      "text/html": [
       "50"
      ],
      "text/latex": [
       "50"
      ],
      "text/markdown": [
       "50"
      ],
      "text/plain": [
       "[1] 50"
      ]
     },
     "metadata": {},
     "output_type": "display_data"
    }
   ],
   "source": [
    "length(data)"
   ]
  },
  {
   "cell_type": "code",
   "execution_count": 5,
   "metadata": {},
   "outputs": [
    {
     "data": {
      "text/plain": [
       "   Min. 1st Qu.  Median    Mean 3rd Qu.    Max. \n",
       "   0.00    2.00    3.00    3.56    4.75    7.00 "
      ]
     },
     "metadata": {},
     "output_type": "display_data"
    }
   ],
   "source": [
    "summary(data)"
   ]
  },
  {
   "cell_type": "markdown",
   "metadata": {},
   "source": [
    "### memo\n",
    "\n",
    "`Min.` data の中の最小値。  \n",
    "`Max.` data の中の最大値。  \n",
    "`1st Qu.`, `Median`, `3rd Qu.` それぞれ data を小さい順に並べたときの 25%, 50%, 75% の値。  \n",
    "`Median` 標本中央値。   \n",
    "`Mean` 標本平均値。 "
   ]
  },
  {
   "cell_type": "code",
   "execution_count": 6,
   "metadata": {},
   "outputs": [
    {
     "data": {
      "text/plain": [
       "data\n",
       " 0  1  2  3  4  5  6  7 \n",
       " 1  3 11 12 10  5  4  4 "
      ]
     },
     "metadata": {},
     "output_type": "display_data"
    }
   ],
   "source": [
    "table(data)"
   ]
  },
  {
   "cell_type": "code",
   "execution_count": 7,
   "metadata": {},
   "outputs": [
    {
     "data": {
      "image/png": "[encoded data removed]",
      "text/plain": [
       "Plot with title “Histogram of data”"
      ]
     },
     "metadata": {},
     "output_type": "display_data"
    }
   ],
   "source": [
    "hist(data, breaks = seq(-0.5, 9.5, 1))"
   ]
  },
  {
   "cell_type": "code",
   "execution_count": 10,
   "metadata": {},
   "outputs": [
    {
     "data": {
      "text/html": [
       "2.98612244897959"
      ],
      "text/latex": [
       "2.98612244897959"
      ],
      "text/markdown": [
       "2.98612244897959"
      ],
      "text/plain": [
       "[1] 2.986122"
      ]
     },
     "metadata": {},
     "output_type": "display_data"
    }
   ],
   "source": [
    "var(data)"
   ]
  },
  {
   "cell_type": "markdown",
   "metadata": {},
   "source": [
    "### memo\n",
    "`var 関数` データのばらつき。標本分散。"
   ]
  },
  {
   "cell_type": "code",
   "execution_count": 11,
   "metadata": {},
   "outputs": [
    {
     "data": {
      "text/html": [
       "1.72804006000428"
      ],
      "text/latex": [
       "1.72804006000428"
      ],
      "text/markdown": [
       "1.72804006000428"
      ],
      "text/plain": [
       "[1] 1.72804"
      ]
     },
     "metadata": {},
     "output_type": "display_data"
    }
   ],
   "source": [
    "sd(data)"
   ]
  },
  {
   "cell_type": "code",
   "execution_count": 9,
   "metadata": {},
   "outputs": [
    {
     "data": {
      "text/html": [
       "1.72804006000428"
      ],
      "text/latex": [
       "1.72804006000428"
      ],
      "text/markdown": [
       "1.72804006000428"
      ],
      "text/plain": [
       "[1] 1.72804"
      ]
     },
     "metadata": {},
     "output_type": "display_data"
    }
   ],
   "source": [
    "sqrt(var(data))"
   ]
  },
  {
   "cell_type": "code",
   "execution_count": 8,
   "metadata": {},
   "outputs": [
    {
     "ename": "ERROR",
     "evalue": "Error in parse(text = x, srcfile = src): <text>:3:9: unexpected symbol\n2: \n3: `sd 関数` 標本分散の平方根\n           ^\n",
     "output_type": "error",
     "traceback": [
      "Error in parse(text = x, srcfile = src): <text>:3:9: unexpected symbol\n2: \n3: `sd 関数` 標本分散の平方根\n           ^\nTraceback:\n"
     ]
    }
   ],
   "source": [
    "### memo\n",
    "\n",
    "`sd 関数` 標本分散の平方根。"
   ]
  },
  {
   "cell_type": "code",
   "execution_count": 11,
   "metadata": {},
   "outputs": [],
   "source": [
    "y <- 0:9\n",
    "prob <- dpois(y, lambda = 3.56)"
   ]
  },
  {
   "cell_type": "code",
   "execution_count": 13,
   "metadata": {},
   "outputs": [
    {
     "data": {
      "text/html": [
       "<table>\n",
       "<thead><tr><th scope=col>y</th><th scope=col>prob</th></tr></thead>\n",
       "<tbody>\n",
       "\t<tr><td>0         </td><td>0.02843882</td></tr>\n",
       "\t<tr><td>1         </td><td>0.10124222</td></tr>\n",
       "\t<tr><td>2         </td><td>0.18021114</td></tr>\n",
       "\t<tr><td>3         </td><td>0.21385056</td></tr>\n",
       "\t<tr><td>4         </td><td>0.19032700</td></tr>\n",
       "\t<tr><td>5         </td><td>0.13551282</td></tr>\n",
       "\t<tr><td>6         </td><td>0.08040427</td></tr>\n",
       "\t<tr><td>7         </td><td>0.04089132</td></tr>\n",
       "\t<tr><td>8         </td><td>0.01819664</td></tr>\n",
       "\t<tr><td>9         </td><td>0.00719778</td></tr>\n",
       "</tbody>\n",
       "</table>\n"
      ],
      "text/latex": [
       "\\begin{tabular}{ll}\n",
       " y & prob\\\\\n",
       "\\hline\n",
       "\t 0          & 0.02843882\\\\\n",
       "\t 1          & 0.10124222\\\\\n",
       "\t 2          & 0.18021114\\\\\n",
       "\t 3          & 0.21385056\\\\\n",
       "\t 4          & 0.19032700\\\\\n",
       "\t 5          & 0.13551282\\\\\n",
       "\t 6          & 0.08040427\\\\\n",
       "\t 7          & 0.04089132\\\\\n",
       "\t 8          & 0.01819664\\\\\n",
       "\t 9          & 0.00719778\\\\\n",
       "\\end{tabular}\n"
      ],
      "text/markdown": [
       "\n",
       "y | prob | \n",
       "|---|---|---|---|---|---|---|---|---|---|\n",
       "| 0          | 0.02843882 | \n",
       "| 1          | 0.10124222 | \n",
       "| 2          | 0.18021114 | \n",
       "| 3          | 0.21385056 | \n",
       "| 4          | 0.19032700 | \n",
       "| 5          | 0.13551282 | \n",
       "| 6          | 0.08040427 | \n",
       "| 7          | 0.04089132 | \n",
       "| 8          | 0.01819664 | \n",
       "| 9          | 0.00719778 | \n",
       "\n",
       "\n"
      ],
      "text/plain": [
       "      y prob      \n",
       " [1,] 0 0.02843882\n",
       " [2,] 1 0.10124222\n",
       " [3,] 2 0.18021114\n",
       " [4,] 3 0.21385056\n",
       " [5,] 4 0.19032700\n",
       " [6,] 5 0.13551282\n",
       " [7,] 6 0.08040427\n",
       " [8,] 7 0.04089132\n",
       " [9,] 8 0.01819664\n",
       "[10,] 9 0.00719778"
      ]
     },
     "metadata": {},
     "output_type": "display_data"
    }
   ],
   "source": [
    "cbind(y, prob)"
   ]
  },
  {
   "cell_type": "code",
   "execution_count": 14,
   "metadata": {},
   "outputs": [
    {
     "data": {
      "image/png": "[encoded data removed]",
      "text/plain": [
       "plot without title"
      ]
     },
     "metadata": {},
     "output_type": "display_data"
    }
   ],
   "source": [
    "# type=\"b\" は丸と折れ線による図示を指定, lty=2 は折れ線は破線を指定\n",
    "plot(y, prob, type = \"b\", lty = 2)"
   ]
  },
  {
   "cell_type": "code",
   "execution_count": 16,
   "metadata": {},
   "outputs": [
    {
     "data": {
      "image/png": "[encoded data removed]",
      "text/plain": [
       "plot without title"
      ]
     },
     "metadata": {},
     "output_type": "display_data"
    }
   ],
   "source": [
    "# 対数尤度を求める。\n",
    "logL <- function(m) sum(dpois(data, m, log = TRUE))\n",
    "lambda <- seq(2, 5, 0.1)\n",
    "plot(lambda, sapply(lambda, logL), type = \"l\")"
   ]
  },
  {
   "cell_type": "code",
   "execution_count": null,
   "metadata": {},
   "outputs": [],
   "source": []
  }
 ],
 "metadata": {
  "kernelspec": {
   "display_name": "R",
   "language": "R",
   "name": "ir"
  },
  "language_info": {
   "codemirror_mode": "r",
   "file_extension": ".r",
   "mimetype": "text/x-r-source",
   "name": "R",
   "pygments_lexer": "r",
   "version": "3.4.1"
  }
 },
 "nbformat": 4,
 "nbformat_minor": 2
}
