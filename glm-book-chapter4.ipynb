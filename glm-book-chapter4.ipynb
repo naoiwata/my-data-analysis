{
 "cells": [
  {
   "cell_type": "markdown",
   "metadata": {},
   "source": [
    "# 4 choice of GLM model"
   ]
  },
  {
   "cell_type": "code",
   "execution_count": 1,
   "metadata": {},
   "outputs": [],
   "source": [
    "d <- read.csv(\"data/glm-book/data3a.csv\")\n",
    "fit.x <- glm(y ~ x, data = d, family = poisson)"
   ]
  },
  {
   "cell_type": "code",
   "execution_count": 2,
   "metadata": {},
   "outputs": [
    {
     "data": {
      "text/plain": [
       "\n",
       "Call:  glm(formula = y ~ x, family = poisson, data = d)\n",
       "\n",
       "Coefficients:\n",
       "(Intercept)            x  \n",
       "    1.29172      0.07566  \n",
       "\n",
       "Degrees of Freedom: 99 Total (i.e. Null);  98 Residual\n",
       "Null Deviance:\t    89.51 \n",
       "Residual Deviance: 84.99 \tAIC: 474.8"
      ]
     },
     "metadata": {},
     "output_type": "display_data"
    }
   ],
   "source": [
    "fit.x"
   ]
  },
  {
   "cell_type": "markdown",
   "metadata": {},
   "source": [
    "### memo\n",
    "\n",
    "逸脱度(D) : -2logL*  \n",
    "最小の逸脱度 : フルモデルをあてはめたときの D  \n",
    "最大の逸脱度 : Null モデルをあてはめたときの D \n",
    "\n",
    "`Degrees of Freedom` 自由度(最尤推定したパラメータの数)  \n",
    "`Null Deviance`  Null 逸脱度(最大の D - 最小の D)  \n",
    "`Residual Deviance` 残差逸脱度(D - 最小の D)   \n",
    "`AIC` 予測の良さを重視するモデル選択規準のひとつ(D + 2K, k は最尤推定したパラメータ数)"
   ]
  },
  {
   "cell_type": "code",
   "execution_count": 3,
   "metadata": {},
   "outputs": [
    {
     "data": {
      "text/html": [
       "-192.889752524496"
      ],
      "text/latex": [
       "-192.889752524496"
      ],
      "text/markdown": [
       "-192.889752524496"
      ],
      "text/plain": [
       "[1] -192.8898"
      ]
     },
     "metadata": {},
     "output_type": "display_data"
    }
   ],
   "source": [
    "# logL* を求める\n",
    "sum(log(dpois(d$y, lambda = d$y)))"
   ]
  },
  {
   "cell_type": "code",
   "execution_count": 6,
   "metadata": {},
   "outputs": [
    {
     "data": {
      "text/html": [
       "385.779505048992"
      ],
      "text/latex": [
       "385.779505048992"
      ],
      "text/markdown": [
       "385.779505048992"
      ],
      "text/plain": [
       "[1] 385.7795"
      ]
     },
     "metadata": {},
     "output_type": "display_data"
    }
   ],
   "source": [
    "# D = -2logL* (ポアソン分布で可能な最小逸脱度) \n",
    "-2 * sum(log(dpois(d$y, lambda = d$y)))"
   ]
  },
  {
   "cell_type": "code",
   "execution_count": 4,
   "metadata": {},
   "outputs": [],
   "source": [
    "fit.null <- glm(formula = y ~ 1, family = poisson, data = d)"
   ]
  },
  {
   "cell_type": "code",
   "execution_count": 5,
   "metadata": {},
   "outputs": [
    {
     "data": {
      "text/plain": [
       "\n",
       "Call:  glm(formula = y ~ 1, family = poisson, data = d)\n",
       "\n",
       "Coefficients:\n",
       "(Intercept)  \n",
       "      2.058  \n",
       "\n",
       "Degrees of Freedom: 99 Total (i.e. Null);  99 Residual\n",
       "Null Deviance:\t    89.51 \n",
       "Residual Deviance: 89.51 \tAIC: 477.3"
      ]
     },
     "metadata": {},
     "output_type": "display_data"
    }
   ],
   "source": [
    "fit.null"
   ]
  },
  {
   "cell_type": "code",
   "execution_count": 6,
   "metadata": {},
   "outputs": [
    {
     "data": {
      "text/plain": [
       "'log Lik.' -237.6432 (df=1)"
      ]
     },
     "metadata": {},
     "output_type": "display_data"
    }
   ],
   "source": [
    "logLik(fit.null)"
   ]
  },
  {
   "cell_type": "code",
   "execution_count": null,
   "metadata": {},
   "outputs": [],
   "source": []
  }
 ],
 "metadata": {
  "kernelspec": {
   "display_name": "R",
   "language": "R",
   "name": "ir"
  },
  "language_info": {
   "codemirror_mode": "r",
   "file_extension": ".r",
   "mimetype": "text/x-r-source",
   "name": "R",
   "pygments_lexer": "r",
   "version": "3.4.1"
  }
 },
 "nbformat": 4,
 "nbformat_minor": 2
}
