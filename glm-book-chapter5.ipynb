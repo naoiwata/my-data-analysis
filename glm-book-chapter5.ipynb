{
 "cells": [
  {
   "cell_type": "markdown",
   "metadata": {},
   "source": [
    "# 5 likelihood ratio test of GLM and asymmetry of the test"
   ]
  },
  {
   "cell_type": "markdown",
   "metadata": {},
   "source": [
    "## 5.4.1 parametric bootstrap method"
   ]
  },
  {
   "cell_type": "code",
   "execution_count": 17,
   "metadata": {},
   "outputs": [],
   "source": [
    "d <- read.csv(\"data/glm-book/data3a.csv\")"
   ]
  },
  {
   "cell_type": "code",
   "execution_count": 25,
   "metadata": {},
   "outputs": [],
   "source": [
    "fit2 <- glm(y ~ x, data = d, family = poisson)"
   ]
  },
  {
   "cell_type": "code",
   "execution_count": 26,
   "metadata": {},
   "outputs": [
    {
     "data": {
      "text/html": [
       "84.9929964907296"
      ],
      "text/latex": [
       "84.9929964907296"
      ],
      "text/markdown": [
       "84.9929964907296"
      ],
      "text/plain": [
       "[1] 84.993"
      ]
     },
     "metadata": {},
     "output_type": "display_data"
    }
   ],
   "source": [
    "fit2$deviance"
   ]
  },
  {
   "cell_type": "code",
   "execution_count": 27,
   "metadata": {},
   "outputs": [],
   "source": [
    "fit1 <- glm(y ~ 1, data = d, family = poisson)"
   ]
  },
  {
   "cell_type": "code",
   "execution_count": 28,
   "metadata": {},
   "outputs": [
    {
     "data": {
      "text/html": [
       "4.51394107885181"
      ],
      "text/latex": [
       "4.51394107885181"
      ],
      "text/markdown": [
       "4.51394107885181"
      ],
      "text/plain": [
       "[1] 4.513941"
      ]
     },
     "metadata": {},
     "output_type": "display_data"
    }
   ],
   "source": [
    "fit1$deviance - fit2$deviance"
   ]
  },
  {
   "cell_type": "code",
   "execution_count": 35,
   "metadata": {},
   "outputs": [],
   "source": [
    "d$y.rnd <- rpois(100, lambda = mean(d$y))"
   ]
  },
  {
   "cell_type": "code",
   "execution_count": 36,
   "metadata": {},
   "outputs": [
    {
     "data": {
      "text/html": [
       "4.55333034494743e-05"
      ],
      "text/latex": [
       "4.55333034494743e-05"
      ],
      "text/markdown": [
       "4.55333034494743e-05"
      ],
      "text/plain": [
       "[1] 4.55333e-05"
      ]
     },
     "metadata": {},
     "output_type": "display_data"
    }
   ],
   "source": [
    "fit1 <- glm(y.rnd ~ 1, data = d, family = poisson)\n",
    "fit2 <- glm(y.rnd ~ x, data = d, family = poisson)\n",
    "fit1$deviance - fit2$deviance"
   ]
  },
  {
   "cell_type": "code",
   "execution_count": 47,
   "metadata": {},
   "outputs": [],
   "source": [
    "get.dd <- function(d) # create data and evaluate \\delta d\n",
    "{\n",
    "  n.sample <- nrow(d) # the number of data\n",
    "  y.mean <- mean(d$y) # sample average\n",
    "  d$y.rnd <- rpois(n.sample, lambda = y.mean)\n",
    "  fit1 <- glm(y.rnd ~ 1, data = d, family = poisson)\n",
    "  fit2 <- glm(y.rnd ~ x, data = d, family = poisson)\n",
    "  fit1$deviance - fit2$deviance\n",
    "}\n",
    "\n",
    "pb <- function(d, n.bootstrap)\n",
    "{\n",
    "  replicate(n.bootstrap, get.dd(d))\n",
    "}"
   ]
  },
  {
   "cell_type": "code",
   "execution_count": 48,
   "metadata": {},
   "outputs": [],
   "source": [
    "dd12 <- pb(d, n.bootstrap = 1000)"
   ]
  },
  {
   "cell_type": "code",
   "execution_count": 49,
   "metadata": {},
   "outputs": [
    {
     "data": {
      "text/plain": [
       "    Min.  1st Qu.   Median     Mean  3rd Qu.     Max. \n",
       "0.000001 0.105080 0.451401 0.984553 1.254256 9.195100 "
      ]
     },
     "metadata": {},
     "output_type": "display_data"
    }
   ],
   "source": [
    "summary(dd12)"
   ]
  },
  {
   "cell_type": "code",
   "execution_count": 50,
   "metadata": {},
   "outputs": [],
   "source": [
    "pb2 <- function(d, n.bootstrap) {\n",
    "  n.sample <- nrow(d)\n",
    "  y.mean <- mean(d$y)\n",
    "  cat(\"# \")\n",
    "  v.d.dev12 <- sapply(\n",
    "    1:n.bootstrap,\n",
    "  function(i) {\n",
    "      cat(\".\")\n",
    "      if (i %% 50 == 0) cat(\"\\n# \")\n",
    "      d$y.rnd <- rpois(n.sample, lambda = y.mean)\n",
    "      fit1 <- glm(y.rnd ~ 1, data = d, family = poisson)\n",
    "      fit2 <- glm(y.rnd ~ x, data = d, family = poisson)\n",
    "      fit1$deviance - fit2$deviance\n",
    "    }\n",
    "  )\n",
    "  cat(\"\\n\")\n",
    "  v.d.dev12\n",
    "}"
   ]
  },
  {
   "cell_type": "code",
   "execution_count": 51,
   "metadata": {},
   "outputs": [
    {
     "name": "stdout",
     "output_type": "stream",
     "text": [
      "# ..................................................\n",
      "# ..................................................\n",
      "# ..................................................\n",
      "# ..................................................\n",
      "# ..................................................\n",
      "# ..................................................\n",
      "# ..................................................\n",
      "# ..................................................\n",
      "# ..................................................\n",
      "# ..................................................\n",
      "# ..................................................\n",
      "# ..................................................\n",
      "# ..................................................\n",
      "# ..................................................\n",
      "# ..................................................\n",
      "# ..................................................\n",
      "# ..................................................\n",
      "# ..................................................\n",
      "# ..................................................\n",
      "# ..................................................\n",
      "# \n"
     ]
    }
   ],
   "source": [
    "dd123 <- pb2(d, n.bootstrap = 1000)"
   ]
  },
  {
   "cell_type": "code",
   "execution_count": 46,
   "metadata": {},
   "outputs": [
    {
     "data": {
      "text/plain": [
       "    Min.  1st Qu.   Median     Mean  3rd Qu.     Max. \n",
       "0.000004 0.119564 0.496146 0.986583 1.312785 8.975946 "
      ]
     },
     "metadata": {},
     "output_type": "display_data"
    }
   ],
   "source": [
    "summary(dd123)"
   ]
  },
  {
   "cell_type": "code",
   "execution_count": 54,
   "metadata": {},
   "outputs": [
    {
     "data": {
      "image/png": "[encoded data removed]",
      "text/plain": [
       "Plot with title “Histogram of dd12”"
      ]
     },
     "metadata": {},
     "output_type": "display_data"
    }
   ],
   "source": [
    "hist(dd12, 100)\n",
    "abline(v = 4.5, lty = 2)"
   ]
  },
  {
   "cell_type": "code",
   "execution_count": 55,
   "metadata": {},
   "outputs": [
    {
     "data": {
      "text/html": [
       "35"
      ],
      "text/latex": [
       "35"
      ],
      "text/markdown": [
       "35"
      ],
      "text/plain": [
       "[1] 35"
      ]
     },
     "metadata": {},
     "output_type": "display_data"
    }
   ],
   "source": [
    "sum(dd12 >= 4.5)"
   ]
  },
  {
   "cell_type": "code",
   "execution_count": 56,
   "metadata": {},
   "outputs": [
    {
     "data": {
      "text/html": [
       "<strong>95%:</strong> 4.05869539607962"
      ],
      "text/latex": [
       "\\textbf{95\\textbackslash{}\\%:} 4.05869539607962"
      ],
      "text/markdown": [
       "**95%:** 4.05869539607962"
      ],
      "text/plain": [
       "     95% \n",
       "4.058695 "
      ]
     },
     "metadata": {},
     "output_type": "display_data"
    }
   ],
   "source": [
    "quantile(dd12, 0.95)"
   ]
  },
  {
   "cell_type": "markdown",
   "metadata": {},
   "source": [
    "## 5.4.2 approximate calculation method using chi-square distribution"
   ]
  },
  {
   "cell_type": "code",
   "execution_count": 57,
   "metadata": {},
   "outputs": [],
   "source": [
    "fit1 <- glm(y.rnd ~ 1, data = d, family = poisson)\n",
    "fit2 <- glm(y.rnd ~ x, data = d, family = poisson)"
   ]
  },
  {
   "cell_type": "code",
   "execution_count": 58,
   "metadata": {},
   "outputs": [
    {
     "data": {
      "text/html": [
       "<table>\n",
       "<thead><tr><th scope=col>Resid. Df</th><th scope=col>Resid. Dev</th><th scope=col>Df</th><th scope=col>Deviance</th><th scope=col>Pr(&gt;Chi)</th></tr></thead>\n",
       "<tbody>\n",
       "\t<tr><td>99         </td><td>101.8513   </td><td>NA         </td><td>         NA</td><td>      NA   </td></tr>\n",
       "\t<tr><td>98         </td><td>101.8512   </td><td> 1         </td><td>4.55333e-05</td><td>0.994616   </td></tr>\n",
       "</tbody>\n",
       "</table>\n"
      ],
      "text/latex": [
       "\\begin{tabular}{r|lllll}\n",
       " Resid. Df & Resid. Dev & Df & Deviance & Pr(>Chi)\\\\\n",
       "\\hline\n",
       "\t 99          & 101.8513    & NA          &          NA &       NA   \\\\\n",
       "\t 98          & 101.8512    &  1          & 4.55333e-05 & 0.994616   \\\\\n",
       "\\end{tabular}\n"
      ],
      "text/markdown": [
       "\n",
       "Resid. Df | Resid. Dev | Df | Deviance | Pr(>Chi) | \n",
       "|---|---|\n",
       "| 99          | 101.8513    | NA          |          NA |       NA    | \n",
       "| 98          | 101.8512    |  1          | 4.55333e-05 | 0.994616    | \n",
       "\n",
       "\n"
      ],
      "text/plain": [
       "  Resid. Df Resid. Dev Df Deviance    Pr(>Chi)\n",
       "1 99        101.8513   NA          NA       NA\n",
       "2 98        101.8512    1 4.55333e-05 0.994616"
      ]
     },
     "metadata": {},
     "output_type": "display_data"
    }
   ],
   "source": [
    "anova(fit1, fit2, test = \"Chisq\")"
   ]
  },
  {
   "cell_type": "code",
   "execution_count": null,
   "metadata": {},
   "outputs": [],
   "source": []
  }
 ],
 "metadata": {
  "kernelspec": {
   "display_name": "R",
   "language": "R",
   "name": "ir"
  },
  "language_info": {
   "codemirror_mode": "r",
   "file_extension": ".r",
   "mimetype": "text/x-r-source",
   "name": "R",
   "pygments_lexer": "r",
   "version": "3.4.1"
  }
 },
 "nbformat": 4,
 "nbformat_minor": 2
}
