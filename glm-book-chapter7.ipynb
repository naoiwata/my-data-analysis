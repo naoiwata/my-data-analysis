{
 "cells": [
  {
   "cell_type": "markdown",
   "metadata": {},
   "source": [
    "# 7 generalized linear mixed model"
   ]
  },
  {
   "cell_type": "code",
   "execution_count": 4,
   "metadata": {},
   "outputs": [],
   "source": [
    "d <- read.csv(\"data/glm-book/data.csv\")"
   ]
  },
  {
   "cell_type": "code",
   "execution_count": 5,
   "metadata": {},
   "outputs": [],
   "source": [
    "d4 <- d[d$x == 4,]"
   ]
  },
  {
   "cell_type": "code",
   "execution_count": 6,
   "metadata": {},
   "outputs": [
    {
     "data": {
      "text/plain": [
       "\n",
       "0 1 2 3 4 5 6 7 8 \n",
       "3 1 4 2 1 1 2 3 3 "
      ]
     },
     "metadata": {},
     "output_type": "display_data"
    }
   ],
   "source": [
    "table(d4$y)"
   ]
  },
  {
   "cell_type": "code",
   "execution_count": 7,
   "metadata": {},
   "outputs": [
    {
     "data": {
      "text/html": [
       "<ol class=list-inline>\n",
       "\t<li>4.05</li>\n",
       "\t<li>8.36578947368421</li>\n",
       "</ol>\n"
      ],
      "text/latex": [
       "\\begin{enumerate*}\n",
       "\\item 4.05\n",
       "\\item 8.36578947368421\n",
       "\\end{enumerate*}\n"
      ],
      "text/markdown": [
       "1. 4.05\n",
       "2. 8.36578947368421\n",
       "\n",
       "\n"
      ],
      "text/plain": [
       "[1] 4.050000 8.365789"
      ]
     },
     "metadata": {},
     "output_type": "display_data"
    }
   ],
   "source": [
    "c(mean(d4$y), var(d4$y))"
   ]
  },
  {
   "cell_type": "code",
   "execution_count": 8,
   "metadata": {},
   "outputs": [],
   "source": [
    "library(glmmML)"
   ]
  },
  {
   "cell_type": "code",
   "execution_count": 9,
   "metadata": {},
   "outputs": [
    {
     "data": {
      "text/plain": [
       "\n",
       "Call:  glmmML(formula = cbind(y, N - y) ~ x, family = binomial, data = d,      cluster = id) \n",
       "\n",
       "\n",
       "              coef se(coef)      z Pr(>|z|)\n",
       "(Intercept) -4.190   0.8777 -4.774 1.81e-06\n",
       "x            1.005   0.2075  4.843 1.28e-06\n",
       "\n",
       "Scale parameter in mixing distribution:  2.408 gaussian \n",
       "Std. Error:                              0.2202 \n",
       "\n",
       "        LR p-value for H_0: sigma = 0:  2.136e-55 \n",
       "\n",
       "Residual deviance: 269.4 on 97 degrees of freedom \tAIC: 275.4 "
      ]
     },
     "metadata": {},
     "output_type": "display_data"
    }
   ],
   "source": [
    "glmmML(cbind(y, N - y) ~ x, data = d, family = binomial, cluster = id)"
   ]
  },
  {
   "cell_type": "code",
   "execution_count": null,
   "metadata": {},
   "outputs": [],
   "source": []
  }
 ],
 "metadata": {
  "kernelspec": {
   "display_name": "R",
   "language": "R",
   "name": "ir"
  },
  "language_info": {
   "codemirror_mode": "r",
   "file_extension": ".r",
   "mimetype": "text/x-r-source",
   "name": "R",
   "pygments_lexer": "r",
   "version": "3.4.1"
  }
 },
 "nbformat": 4,
 "nbformat_minor": 2
}
